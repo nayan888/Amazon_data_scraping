{
 "cells": [
  {
   "cell_type": "code",
   "execution_count": 1,
   "id": "12c9ebd0",
   "metadata": {},
   "outputs": [],
   "source": [
    "from bs4 import BeautifulSoup\n",
    "import requests"
   ]
  },
  {
   "cell_type": "code",
   "execution_count": 2,
   "id": "e2a931eb",
   "metadata": {},
   "outputs": [],
   "source": [
    "url = 'https://www.amazon.com/s?i=computers-intl-ship&bbn=16225007011&rh=n%3A16225007011%2Cn%3A13896617011%2Cn%3A1232597011&dc&qid=1622960357&rnid=13896617011&ref=sr_nr_n_3'\n",
    "headers = {\n",
    "    'User-Agent': 'Mozilla/5.0 (Windows NT 10.0; Win64; x64) AppleWebKit/537.36 (KHTML, like Gecko) Chrome/91.0.4472.77 Safari/537.36',\n",
    "    'Referer': 'https://www.amazon.com/'\n",
    "}"
   ]
  },
  {
   "cell_type": "code",
   "execution_count": 3,
   "id": "ac3f6f24",
   "metadata": {},
   "outputs": [],
   "source": [
    "res = requests.get(url, headers= headers)"
   ]
  },
  {
   "cell_type": "code",
   "execution_count": 4,
   "id": "bfe66d3c",
   "metadata": {},
   "outputs": [],
   "source": [
    "#res.text"
   ]
  },
  {
   "cell_type": "code",
   "execution_count": 5,
   "id": "a2554500",
   "metadata": {},
   "outputs": [
    {
     "data": {
      "text/plain": [
       "200"
      ]
     },
     "execution_count": 5,
     "metadata": {},
     "output_type": "execute_result"
    }
   ],
   "source": [
    "res.status_code"
   ]
  },
  {
   "cell_type": "code",
   "execution_count": 6,
   "id": "f6108d08",
   "metadata": {},
   "outputs": [],
   "source": [
    "bs = BeautifulSoup(res.text)"
   ]
  },
  {
   "cell_type": "code",
   "execution_count": 7,
   "id": "9381d4cd",
   "metadata": {},
   "outputs": [],
   "source": [
    "#bs"
   ]
  },
  {
   "cell_type": "code",
   "execution_count": 8,
   "id": "2dbdf292",
   "metadata": {},
   "outputs": [],
   "source": [
    "items = bs.select('.s-border-bottom .a-spacing-medium')"
   ]
  },
  {
   "cell_type": "code",
   "execution_count": 10,
   "id": "0d348353",
   "metadata": {},
   "outputs": [
    {
     "data": {
      "text/plain": [
       "'Samsung Galaxy Tab A7 10.4 Wi-Fi 64GB Gray (SM-T500NZAEXAR)'"
      ]
     },
     "execution_count": 10,
     "metadata": {},
     "output_type": "execute_result"
    }
   ],
   "source": [
    "items[1].select_one('.a-color-base.a-text-normal').text"
   ]
  },
  {
   "cell_type": "code",
   "execution_count": 11,
   "id": "f285ae01",
   "metadata": {},
   "outputs": [
    {
     "data": {
      "text/plain": [
       "'4.7 out of 5 stars'"
      ]
     },
     "execution_count": 11,
     "metadata": {},
     "output_type": "execute_result"
    }
   ],
   "source": [
    "items[1].select_one('.aok-align-bottom').text"
   ]
  },
  {
   "cell_type": "code",
   "execution_count": 12,
   "id": "ad21f7d0",
   "metadata": {},
   "outputs": [
    {
     "data": {
      "text/plain": [
       "'9,381'"
      ]
     },
     "execution_count": 12,
     "metadata": {},
     "output_type": "execute_result"
    }
   ],
   "source": [
    "items[1].select_one('.a-size-small .a-size-base').text"
   ]
  },
  {
   "cell_type": "code",
   "execution_count": 14,
   "id": "5d1604c7",
   "metadata": {},
   "outputs": [
    {
     "data": {
      "text/plain": [
       "169.99"
      ]
     },
     "execution_count": 14,
     "metadata": {},
     "output_type": "execute_result"
    }
   ],
   "source": [
    "float(items[0].select_one('.a-price-whole').text) + float(items[0].select_one('.a-price-fraction').text)/100"
   ]
  },
  {
   "cell_type": "code",
   "execution_count": 15,
   "id": "76cec453",
   "metadata": {},
   "outputs": [
    {
     "data": {
      "text/plain": [
       "'/s?i=computers-intl-ship&bbn=16225007011&rh=n%3A16225007011%2Cn%3A13896617011%2Cn%3A1232597011&dc&page=2&qid=1623355611&rnid=13896617011&ref=sr_pg_1'"
      ]
     },
     "execution_count": 15,
     "metadata": {},
     "output_type": "execute_result"
    }
   ],
   "source": [
    "bs.find('li', {'class': 'a-last'}).a['href']"
   ]
  },
  {
   "cell_type": "code",
   "execution_count": 17,
   "id": "a70166b7",
   "metadata": {},
   "outputs": [
    {
     "name": "stdout",
     "output_type": "stream",
     "text": [
      "Lenovo Tab M10 Plus, 10.3\" FHD Android Tablet, Octa-Core Processor, 64GB Storage, 4GB RAM, Iron Grey, ZA5T0300US\n",
      "4.5 out of 5 stars\n",
      "5,926\n",
      "169.99\n"
     ]
    },
    {
     "ename": "AttributeError",
     "evalue": "'str' object has no attribute 'align'",
     "output_type": "error",
     "traceback": [
      "\u001b[1;31m---------------------------------------------------------------------------\u001b[0m",
      "\u001b[1;31mAttributeError\u001b[0m                            Traceback (most recent call last)",
      "\u001b[1;32m<ipython-input-17-774410605b5a>\u001b[0m in \u001b[0;36m<module>\u001b[1;34m\u001b[0m\n\u001b[0;32m      7\u001b[0m     \u001b[1;32mexcept\u001b[0m\u001b[1;33m:\u001b[0m\u001b[1;33m\u001b[0m\u001b[1;33m\u001b[0m\u001b[0m\n\u001b[0;32m      8\u001b[0m         \u001b[0mprint\u001b[0m\u001b[1;33m(\u001b[0m\u001b[1;32mNone\u001b[0m\u001b[1;33m)\u001b[0m\u001b[1;33m\u001b[0m\u001b[1;33m\u001b[0m\u001b[0m\n\u001b[1;32m----> 9\u001b[1;33m     \u001b[0mprint\u001b[0m\u001b[1;33m(\u001b[0m\u001b[1;34m'================'\u001b[0m\u001b[1;33m.\u001b[0m\u001b[0malign\u001b[0m\u001b[1;33m(\u001b[0m\u001b[1;34m'center'\u001b[0m\u001b[1;33m)\u001b[0m\u001b[1;33m)\u001b[0m\u001b[1;33m\u001b[0m\u001b[1;33m\u001b[0m\u001b[0m\n\u001b[0m",
      "\u001b[1;31mAttributeError\u001b[0m: 'str' object has no attribute 'align'"
     ]
    }
   ],
   "source": [
    "for item in items:\n",
    "    print(item.select_one('.a-color-base.a-text-normal').text)\n",
    "    print(item.select_one('.aok-align-bottom').text)\n",
    "    print(item.select_one('.a-size-small .a-size-base').text)\n",
    "    try:\n",
    "        print(float(item.select_one('.a-price-whole').text) + float(item.select_one('.a-price-fraction').text)/100)\n",
    "    except:\n",
    "        print(None)\n",
    "    print('================'.align('center'))"
   ]
  },
  {
   "cell_type": "code",
   "execution_count": null,
   "id": "fb510e24",
   "metadata": {},
   "outputs": [],
   "source": []
  }
 ],
 "metadata": {
  "kernelspec": {
   "display_name": "Python 3",
   "language": "python",
   "name": "python3"
  },
  "language_info": {
   "codemirror_mode": {
    "name": "ipython",
    "version": 3
   },
   "file_extension": ".py",
   "mimetype": "text/x-python",
   "name": "python",
   "nbconvert_exporter": "python",
   "pygments_lexer": "ipython3",
   "version": "3.9.2"
  }
 },
 "nbformat": 4,
 "nbformat_minor": 5
}
